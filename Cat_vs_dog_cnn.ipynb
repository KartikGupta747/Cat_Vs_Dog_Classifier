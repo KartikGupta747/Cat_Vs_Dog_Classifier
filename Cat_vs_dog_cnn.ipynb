{
 "cells": [
  {
   "cell_type": "code",
   "execution_count": null,
   "metadata": {
    "colab": {
     "base_uri": "https://localhost:8080/"
    },
    "id": "_WaaMMe88pH1",
    "outputId": "23e455cf-970d-455a-b8fd-76f46308e4b5",
    "scrolled": true
   },
   "outputs": [],
   "source": [
    "!pip install tensorflow"
   ]
  },
  {
   "cell_type": "code",
   "execution_count": 1,
   "metadata": {
    "id": "shvivirSg2RT"
   },
   "outputs": [],
   "source": [
    "import numpy as np\n",
    "import pandas as pd\n",
    "import tensorflow\n",
    "from tensorflow import keras\n",
    "from tensorflow.keras import Sequential\n",
    "from tensorflow.keras.layers import Conv2D, MaxPooling2D, Flatten, Dense, Dropout\n",
    "from tensorflow.keras.preprocessing.image import ImageDataGenerator\n",
    "from tensorflow.keras.optimizers import Adam"
   ]
  },
  {
   "cell_type": "code",
   "execution_count": null,
   "metadata": {
    "id": "ZdionJMj3BK2"
   },
   "outputs": [],
   "source": []
  },
  {
   "cell_type": "code",
   "execution_count": 2,
   "metadata": {
    "id": "O_2zeRGAlCyd"
   },
   "outputs": [],
   "source": [
    "# Pehle hum woh folder banayenge jo error mein likha hai\n",
    "!mkdir -p /root/.config/kaggle/\n",
    "\n",
    "# Ab upload ki hui file ko uss folder mein move karenge\n",
    "!mv kaggle.json /root/.config/kaggle/\n",
    "\n",
    "# Yeh zaroori hai: File permissions set karenge (taaki Kaggle ko lage ki file secure hai)\n",
    "!chmod 600 /root/.config/kaggle/kaggle.json"
   ]
  },
  {
   "cell_type": "code",
   "execution_count": 3,
   "metadata": {
    "colab": {
     "base_uri": "https://localhost:8080/"
    },
    "id": "GMvhq_SXkWRA",
    "outputId": "ec68915f-803b-44e3-e6e7-359e917ba09f"
   },
   "outputs": [
    {
     "name": "stdout",
     "output_type": "stream",
     "text": [
      "Dataset URL: https://www.kaggle.com/datasets/shaunthesheep/microsoft-catsvsdogs-dataset\n",
      "License(s): other\n",
      "Downloading microsoft-catsvsdogs-dataset.zip to /content\n",
      " 86% 681M/788M [00:03<00:02, 52.3MB/s]\n",
      "100% 788M/788M [00:04<00:00, 206MB/s] \n"
     ]
    }
   ],
   "source": [
    "!kaggle datasets download -d shaunthesheep/microsoft-catsvsdogs-dataset"
   ]
  },
  {
   "cell_type": "code",
   "execution_count": null,
   "metadata": {
    "colab": {
     "base_uri": "https://localhost:8080/"
    },
    "id": "N3KjVmdBml1o",
    "outputId": "06b09475-428e-4130-8f18-304bd7a661ea"
   },
   "outputs": [],
   "source": [
    "!unzip microsoft-catsvsdogs-dataset.zip"
   ]
  },
  {
   "cell_type": "code",
   "execution_count": 5,
   "metadata": {
    "colab": {
     "base_uri": "https://localhost:8080/"
    },
    "id": "NkWsVfo5n8W1",
    "outputId": "b0467e15-b2d1-4f7f-e2a2-2177c5632631"
   },
   "outputs": [
    {
     "name": "stdout",
     "output_type": "stream",
     "text": [
      "Script shuru ho rahi hai...\n",
      "Naye folders bana raha hoon...\n",
      "Folders ban gaye.\n",
      "\n",
      "--- Cat Files ko Process kar raha hoon ---\n",
      "'PetImages/Cat' ko scan kar raha hoon...\n",
      "Empty file mili, skip kar raha hoon: 666.jpg\n",
      "Kharaab file mili, skip kar raha hoon: Thumbs.db\n",
      "Train files copy kar raha hoon -> dataset/train/cats\n",
      "Validation files copy kar raha hoon -> dataset/validation/cats\n",
      "Total 12499 files process huin.\n",
      "Training mein gayi: 9999, Validation mein gayi: 2500\n",
      "\n",
      "--- Dog Files ko Process kar raha hoon ---\n",
      "'PetImages/Dog' ko scan kar raha hoon...\n"
     ]
    },
    {
     "name": "stderr",
     "output_type": "stream",
     "text": [
      "/usr/local/lib/python3.12/dist-packages/PIL/TiffImagePlugin.py:950: UserWarning: Truncated File Read\n",
      "  warnings.warn(str(msg))\n"
     ]
    },
    {
     "name": "stdout",
     "output_type": "stream",
     "text": [
      "Empty file mili, skip kar raha hoon: 11702.jpg\n",
      "Kharaab file mili, skip kar raha hoon: Thumbs.db\n",
      "Train files copy kar raha hoon -> dataset/train/dogs\n",
      "Validation files copy kar raha hoon -> dataset/validation/dogs\n",
      "Total 12499 files process huin.\n",
      "Training mein gayi: 9999, Validation mein gayi: 2500\n",
      "\n",
      "Sab ho gaya! Dataset taiyaar hai.\n"
     ]
    }
   ],
   "source": [
    "import os\n",
    "import shutil\n",
    "import random\n",
    "from PIL import Image # Yeh library image check karne ke liye hai\n",
    "\n",
    "print(\"Script shuru ho rahi hai...\")\n",
    "\n",
    "# --- Configuration ---\n",
    "# 1. Hamara original data kahan hai\n",
    "SOURCE_CAT_DIR = 'PetImages/Cat'\n",
    "SOURCE_DOG_DIR = 'PetImages/Dog'\n",
    "\n",
    "# 2. Hamein naya dataset kahan banana hai\n",
    "BASE_DIR = 'dataset'\n",
    "\n",
    "# 3. Train aur Validation folders ke naam\n",
    "train_dir = os.path.join(BASE_DIR, 'train')\n",
    "validation_dir = os.path.join(BASE_DIR, 'validation')\n",
    "test_dir = os.path.join(BASE_DIR, 'test')\n",
    "\n",
    "# 4. Unke andar Cat/Dog folders ke naam\n",
    "train_cats_dir = os.path.join(train_dir, 'cats')\n",
    "train_dogs_dir = os.path.join(train_dir, 'dogs')\n",
    "test_cats_dir = os.path.join(test_dir, 'cats')\n",
    "test_dogs_dir = os.path.join(test_dir, 'dogs')\n",
    "validation_cats_dir = os.path.join(validation_dir, 'cats')\n",
    "validation_dogs_dir = os.path.join(validation_dir, 'dogs')\n",
    "\n",
    "# 5. Kitna data validation mein daalna hai (20%) \n",
    "SPLIT_SIZE_VALID = 0.2\n",
    "# 5. Kitna data test mein daalna hai (10%)\n",
    "SPLIT_SIZE_TEST = 0.1\n",
    "\n",
    "# --- Function 1: Naye Folders Banana ---\n",
    "def create_dirs():\n",
    "    print(\"Naye folders bana raha hoon...\")\n",
    "    os.makedirs(train_cats_dir, exist_ok=True)\n",
    "    os.makedirs(train_dogs_dir, exist_ok=True)\n",
    "    os.makedirs(validation_cats_dir, exist_ok=True)\n",
    "    os.makedirs(validation_dogs_dir, exist_ok=True)\n",
    "    os.makedirs(test_cats_dir, exist_ok=True)\n",
    "    os.makedirs(test_dogs_dir, exist_ok=True)\n",
    "    print(\"Folders ban gaye.\")\n",
    "\n",
    "# --- Function 2: Data ko Split aur Copy Karna ---\n",
    "def split_and_copy_data(source_dir, train_target_dir, valid_target_dir,test_target_dir, split_size_valid,split_size_test):\n",
    "    all_files = []\n",
    "\n",
    "    # Pehle saari valid files ki list banayenge\n",
    "    print(f\"'{source_dir}' ko scan kar raha hoon...\")\n",
    "    for filename in os.listdir(source_dir):\n",
    "        filepath = os.path.join(source_dir, filename)\n",
    "\n",
    "        # Check karo ki file empty toh nahi hai\n",
    "        if os.path.getsize(filepath) > 0:\n",
    "            # Check karo ki file sach mein image hai ya nahi\n",
    "            try:\n",
    "                # Image ko kholne ki koshish karo\n",
    "                img = Image.open(filepath)\n",
    "                img.verify() # Check karo ki image data corrupt toh nahi\n",
    "                all_files.append(filename)\n",
    "            except (IOError, SyntaxError) as e:\n",
    "                # Yeh kharaab file hai, ise skip karo\n",
    "                print(f\"Kharaab file mili, skip kar raha hoon: {filename}\")\n",
    "        else:\n",
    "            print(f\"Empty file mili, skip kar raha hoon: {filename}\")\n",
    "\n",
    "    # List ko shuffle karo taaki random images train/validation mein jaayein\n",
    "    random.shuffle(all_files)\n",
    "\n",
    "    # Split point calculate karo\n",
    "    split_point_valid = int(len(all_files) * (1 - split_size_valid - split_size_test))\n",
    "    split_point_test = int(len(all_files) * (1 - split_size_test))\n",
    "\n",
    "    # List ko do hisson mein todo\n",
    "    train_files = all_files[:split_point_valid]\n",
    "    validation_files = all_files[split_point_valid:split_point_test]\n",
    "    test_files=all_files[split_point_test:]\n",
    "\n",
    "    # Files ko copy karo\n",
    "    print(f\"Train files copy kar raha hoon -> {train_target_dir}\")\n",
    "    for filename in train_files:\n",
    "        shutil.copyfile(os.path.join(source_dir, filename),\n",
    "                        os.path.join(train_target_dir, filename))\n",
    "\n",
    "    print(f\"Validation files copy kar raha hoon -> {valid_target_dir}\")\n",
    "    for filename in validation_files:\n",
    "        shutil.copyfile(os.path.join(source_dir, filename),\n",
    "                        os.path.join(valid_target_dir, filename))\n",
    "        \n",
    "    for filename in test_files:\n",
    "        shutil.copyfile(os.path.join(source_dir, filename),\n",
    "                        os.path.join(test_target_dir, filename))\n",
    "\n",
    "    print(f\"Total {len(all_files)} files process huin.\")\n",
    "    print(f\"Training mein gayi: {len(train_files)},test mein gayi: {len(test_files)}, Validation mein gayi: {len(validation_files)}\")\n",
    "\n",
    "\n",
    "create_dirs()\n",
    "\n",
    "print(\"\\n--- Cat Files ko Process kar raha hoon ---\")\n",
    "split_and_copy_data(SOURCE_CAT_DIR, train_cats_dir, validation_cats_dir,test_cats_dir, SPLIT_SIZE_VALID,SPLIT_SIZE_TEST)\n",
    "\n",
    "print(\"\\n--- Dog Files ko Process kar raha hoon ---\")\n",
    "split_and_copy_data(SOURCE_DOG_DIR, train_dogs_dir, validation_dogs_dir,test_dogs_dir, SPLIT_SIZE_VALID,SPLIT_SIZE_TEST)\n",
    "\n",
    "print(\"\\nSab ho gaya! Dataset taiyaar hai.\")"
   ]
  },
  {
   "cell_type": "markdown",
   "metadata": {
    "id": "bD1TMBYCwewu"
   },
   "source": [
    "##Loading data for training and testing\n",
    "\n"
   ]
  },
  {
   "cell_type": "code",
   "execution_count": 6,
   "metadata": {
    "id": "NBX2kcYwweSP"
   },
   "outputs": [],
   "source": [
    "img_height, img_width = 150, 150\n",
    "batch_size=32"
   ]
  },
  {
   "cell_type": "code",
   "execution_count": 7,
   "metadata": {
    "id": "vzD61U31yZpC"
   },
   "outputs": [],
   "source": [
    "train_data_source='/content/dataset/train'\n",
    "valid_data_source='/content/dataset/validation'"
   ]
  },
  {
   "cell_type": "code",
   "execution_count": 8,
   "metadata": {
    "id": "qntXQaovweQS"
   },
   "outputs": [],
   "source": [
    "train_datagen=ImageDataGenerator(\n",
    "  rescale=1./255,\n",
    "  rotation_range=40,\n",
    "  zoom_range=0.2,\n",
    "  shear_range=0.2,\n",
    "  width_shift_range=0.2,\n",
    "  height_shift_range=0.2,\n",
    "  horizontal_flip=True,\n",
    "  fill_mode='nearest'\n",
    ")\n",
    "\n",
    "valid_datagen=ImageDataGenerator(rescale=1./255)"
   ]
  },
  {
   "cell_type": "code",
   "execution_count": 9,
   "metadata": {
    "colab": {
     "base_uri": "https://localhost:8080/"
    },
    "id": "jETcKL0-weOY",
    "outputId": "c5cf7459-7386-4fd0-fa2e-fd1c47ddf5ba"
   },
   "outputs": [
    {
     "name": "stdout",
     "output_type": "stream",
     "text": [
      "Found 19998 images belonging to 2 classes.\n"
     ]
    }
   ],
   "source": [
    "training_data_generator=train_datagen.flow_from_directory(\n",
    "    train_data_source,\n",
    "    batch_size=batch_size,\n",
    "    target_size=(img_height,img_width),\n",
    "    class_mode='binary'\n",
    ")"
   ]
  },
  {
   "cell_type": "code",
   "execution_count": 10,
   "metadata": {
    "colab": {
     "base_uri": "https://localhost:8080/"
    },
    "id": "Hj8zrFeUweMa",
    "outputId": "b18165b6-d703-4382-d1b3-1bd76b1b2122"
   },
   "outputs": [
    {
     "name": "stdout",
     "output_type": "stream",
     "text": [
      "Found 5000 images belonging to 2 classes.\n"
     ]
    }
   ],
   "source": [
    "valid_data_generator=valid_datagen.flow_from_directory(\n",
    "    valid_data_source,\n",
    "    batch_size=batch_size,\n",
    "    target_size=(img_height,img_width),\n",
    "    class_mode='binary'\n",
    ")"
   ]
  },
  {
   "cell_type": "code",
   "execution_count": 11,
   "metadata": {
    "colab": {
     "base_uri": "https://localhost:8080/"
    },
    "id": "HQAbTHoUweKZ",
    "outputId": "99bdf99e-42cd-4972-ce02-35889d37e099"
   },
   "outputs": [
    {
     "name": "stdout",
     "output_type": "stream",
     "text": [
      "class {'cats': 0, 'dogs': 1}\n"
     ]
    }
   ],
   "source": [
    "print(f'class {training_data_generator.class_indices}')"
   ]
  },
  {
   "cell_type": "markdown",
   "metadata": {
    "id": "Z1FLpdyQ2tHf"
   },
   "source": [
    "###CNN Architecture"
   ]
  },
  {
   "cell_type": "code",
   "execution_count": 12,
   "metadata": {
    "id": "YyEK35htweHo"
   },
   "outputs": [],
   "source": [
    "model=Sequential()"
   ]
  },
  {
   "cell_type": "code",
   "execution_count": 13,
   "metadata": {
    "colab": {
     "base_uri": "https://localhost:8080/"
    },
    "id": "zXAiNnHyweE_",
    "outputId": "902813cd-d8c7-4686-8d44-31efee32a40e"
   },
   "outputs": [
    {
     "name": "stderr",
     "output_type": "stream",
     "text": [
      "/usr/local/lib/python3.12/dist-packages/keras/src/layers/convolutional/base_conv.py:113: UserWarning: Do not pass an `input_shape`/`input_dim` argument to a layer. When using Sequential models, prefer using an `Input(shape)` object as the first layer in the model instead.\n",
      "  super().__init__(activity_regularizer=activity_regularizer, **kwargs)\n"
     ]
    }
   ],
   "source": [
    "model.add(Conv2D(32,(3,3),activation='relu',input_shape=(img_height, img_width,3)))\n",
    "model.add(MaxPooling2D((2,2),2))"
   ]
  },
  {
   "cell_type": "code",
   "execution_count": 14,
   "metadata": {
    "id": "eaaDHiKOor6O"
   },
   "outputs": [],
   "source": [
    "model.add(Conv2D(64,(3,3),activation='relu'))\n",
    "model.add(MaxPooling2D((2,2),2))\n",
    "model.add(Conv2D(128,(3,3),activation='relu'))\n",
    "model.add(MaxPooling2D((2,2),2))\n",
    "model.add(Conv2D(128,(3,3),activation='relu'))\n",
    "model.add(MaxPooling2D((2,2),2))"
   ]
  },
  {
   "cell_type": "code",
   "execution_count": 15,
   "metadata": {
    "id": "YMFKC-0w6Dos"
   },
   "outputs": [],
   "source": [
    "model.add(Flatten())\n",
    "model.add(Dropout(0.3))\n",
    "model.add(Dense(512,activation='relu'))\n",
    "model.add(Dense(1,activation='sigmoid'))\n"
   ]
  },
  {
   "cell_type": "code",
   "execution_count": 16,
   "metadata": {
    "colab": {
     "base_uri": "https://localhost:8080/",
     "height": 513
    },
    "id": "ZYYrzNcN6r5V",
    "outputId": "6f8b1863-69fd-495f-e216-1980eccfc2e9"
   },
   "outputs": [
    {
     "data": {
      "text/html": [
       "<pre style=\"white-space:pre;overflow-x:auto;line-height:normal;font-family:Menlo,'DejaVu Sans Mono',consolas,'Courier New',monospace\"><span style=\"font-weight: bold\">Model: \"sequential\"</span>\n",
       "</pre>\n"
      ],
      "text/plain": [
       "\u001b[1mModel: \"sequential\"\u001b[0m\n"
      ]
     },
     "metadata": {},
     "output_type": "display_data"
    },
    {
     "data": {
      "text/html": [
       "<pre style=\"white-space:pre;overflow-x:auto;line-height:normal;font-family:Menlo,'DejaVu Sans Mono',consolas,'Courier New',monospace\">┏━━━━━━━━━━━━━━━━━━━━━━━━━━━━━━━━━┳━━━━━━━━━━━━━━━━━━━━━━━━┳━━━━━━━━━━━━━━━┓\n",
       "┃<span style=\"font-weight: bold\"> Layer (type)                    </span>┃<span style=\"font-weight: bold\"> Output Shape           </span>┃<span style=\"font-weight: bold\">       Param # </span>┃\n",
       "┡━━━━━━━━━━━━━━━━━━━━━━━━━━━━━━━━━╇━━━━━━━━━━━━━━━━━━━━━━━━╇━━━━━━━━━━━━━━━┩\n",
       "│ conv2d (<span style=\"color: #0087ff; text-decoration-color: #0087ff\">Conv2D</span>)                 │ (<span style=\"color: #00d7ff; text-decoration-color: #00d7ff\">None</span>, <span style=\"color: #00af00; text-decoration-color: #00af00\">148</span>, <span style=\"color: #00af00; text-decoration-color: #00af00\">148</span>, <span style=\"color: #00af00; text-decoration-color: #00af00\">32</span>)   │           <span style=\"color: #00af00; text-decoration-color: #00af00\">896</span> │\n",
       "├─────────────────────────────────┼────────────────────────┼───────────────┤\n",
       "│ max_pooling2d (<span style=\"color: #0087ff; text-decoration-color: #0087ff\">MaxPooling2D</span>)    │ (<span style=\"color: #00d7ff; text-decoration-color: #00d7ff\">None</span>, <span style=\"color: #00af00; text-decoration-color: #00af00\">74</span>, <span style=\"color: #00af00; text-decoration-color: #00af00\">74</span>, <span style=\"color: #00af00; text-decoration-color: #00af00\">32</span>)     │             <span style=\"color: #00af00; text-decoration-color: #00af00\">0</span> │\n",
       "├─────────────────────────────────┼────────────────────────┼───────────────┤\n",
       "│ conv2d_1 (<span style=\"color: #0087ff; text-decoration-color: #0087ff\">Conv2D</span>)               │ (<span style=\"color: #00d7ff; text-decoration-color: #00d7ff\">None</span>, <span style=\"color: #00af00; text-decoration-color: #00af00\">72</span>, <span style=\"color: #00af00; text-decoration-color: #00af00\">72</span>, <span style=\"color: #00af00; text-decoration-color: #00af00\">64</span>)     │        <span style=\"color: #00af00; text-decoration-color: #00af00\">18,496</span> │\n",
       "├─────────────────────────────────┼────────────────────────┼───────────────┤\n",
       "│ max_pooling2d_1 (<span style=\"color: #0087ff; text-decoration-color: #0087ff\">MaxPooling2D</span>)  │ (<span style=\"color: #00d7ff; text-decoration-color: #00d7ff\">None</span>, <span style=\"color: #00af00; text-decoration-color: #00af00\">36</span>, <span style=\"color: #00af00; text-decoration-color: #00af00\">36</span>, <span style=\"color: #00af00; text-decoration-color: #00af00\">64</span>)     │             <span style=\"color: #00af00; text-decoration-color: #00af00\">0</span> │\n",
       "├─────────────────────────────────┼────────────────────────┼───────────────┤\n",
       "│ conv2d_2 (<span style=\"color: #0087ff; text-decoration-color: #0087ff\">Conv2D</span>)               │ (<span style=\"color: #00d7ff; text-decoration-color: #00d7ff\">None</span>, <span style=\"color: #00af00; text-decoration-color: #00af00\">34</span>, <span style=\"color: #00af00; text-decoration-color: #00af00\">34</span>, <span style=\"color: #00af00; text-decoration-color: #00af00\">128</span>)    │        <span style=\"color: #00af00; text-decoration-color: #00af00\">73,856</span> │\n",
       "├─────────────────────────────────┼────────────────────────┼───────────────┤\n",
       "│ max_pooling2d_2 (<span style=\"color: #0087ff; text-decoration-color: #0087ff\">MaxPooling2D</span>)  │ (<span style=\"color: #00d7ff; text-decoration-color: #00d7ff\">None</span>, <span style=\"color: #00af00; text-decoration-color: #00af00\">17</span>, <span style=\"color: #00af00; text-decoration-color: #00af00\">17</span>, <span style=\"color: #00af00; text-decoration-color: #00af00\">128</span>)    │             <span style=\"color: #00af00; text-decoration-color: #00af00\">0</span> │\n",
       "├─────────────────────────────────┼────────────────────────┼───────────────┤\n",
       "│ conv2d_3 (<span style=\"color: #0087ff; text-decoration-color: #0087ff\">Conv2D</span>)               │ (<span style=\"color: #00d7ff; text-decoration-color: #00d7ff\">None</span>, <span style=\"color: #00af00; text-decoration-color: #00af00\">15</span>, <span style=\"color: #00af00; text-decoration-color: #00af00\">15</span>, <span style=\"color: #00af00; text-decoration-color: #00af00\">128</span>)    │       <span style=\"color: #00af00; text-decoration-color: #00af00\">147,584</span> │\n",
       "├─────────────────────────────────┼────────────────────────┼───────────────┤\n",
       "│ max_pooling2d_3 (<span style=\"color: #0087ff; text-decoration-color: #0087ff\">MaxPooling2D</span>)  │ (<span style=\"color: #00d7ff; text-decoration-color: #00d7ff\">None</span>, <span style=\"color: #00af00; text-decoration-color: #00af00\">7</span>, <span style=\"color: #00af00; text-decoration-color: #00af00\">7</span>, <span style=\"color: #00af00; text-decoration-color: #00af00\">128</span>)      │             <span style=\"color: #00af00; text-decoration-color: #00af00\">0</span> │\n",
       "├─────────────────────────────────┼────────────────────────┼───────────────┤\n",
       "│ flatten (<span style=\"color: #0087ff; text-decoration-color: #0087ff\">Flatten</span>)               │ (<span style=\"color: #00d7ff; text-decoration-color: #00d7ff\">None</span>, <span style=\"color: #00af00; text-decoration-color: #00af00\">6272</span>)           │             <span style=\"color: #00af00; text-decoration-color: #00af00\">0</span> │\n",
       "├─────────────────────────────────┼────────────────────────┼───────────────┤\n",
       "│ dropout (<span style=\"color: #0087ff; text-decoration-color: #0087ff\">Dropout</span>)               │ (<span style=\"color: #00d7ff; text-decoration-color: #00d7ff\">None</span>, <span style=\"color: #00af00; text-decoration-color: #00af00\">6272</span>)           │             <span style=\"color: #00af00; text-decoration-color: #00af00\">0</span> │\n",
       "├─────────────────────────────────┼────────────────────────┼───────────────┤\n",
       "│ dense (<span style=\"color: #0087ff; text-decoration-color: #0087ff\">Dense</span>)                   │ (<span style=\"color: #00d7ff; text-decoration-color: #00d7ff\">None</span>, <span style=\"color: #00af00; text-decoration-color: #00af00\">512</span>)            │     <span style=\"color: #00af00; text-decoration-color: #00af00\">3,211,776</span> │\n",
       "├─────────────────────────────────┼────────────────────────┼───────────────┤\n",
       "│ dense_1 (<span style=\"color: #0087ff; text-decoration-color: #0087ff\">Dense</span>)                 │ (<span style=\"color: #00d7ff; text-decoration-color: #00d7ff\">None</span>, <span style=\"color: #00af00; text-decoration-color: #00af00\">1</span>)              │           <span style=\"color: #00af00; text-decoration-color: #00af00\">513</span> │\n",
       "└─────────────────────────────────┴────────────────────────┴───────────────┘\n",
       "</pre>\n"
      ],
      "text/plain": [
       "┏━━━━━━━━━━━━━━━━━━━━━━━━━━━━━━━━━┳━━━━━━━━━━━━━━━━━━━━━━━━┳━━━━━━━━━━━━━━━┓\n",
       "┃\u001b[1m \u001b[0m\u001b[1mLayer (type)                   \u001b[0m\u001b[1m \u001b[0m┃\u001b[1m \u001b[0m\u001b[1mOutput Shape          \u001b[0m\u001b[1m \u001b[0m┃\u001b[1m \u001b[0m\u001b[1m      Param #\u001b[0m\u001b[1m \u001b[0m┃\n",
       "┡━━━━━━━━━━━━━━━━━━━━━━━━━━━━━━━━━╇━━━━━━━━━━━━━━━━━━━━━━━━╇━━━━━━━━━━━━━━━┩\n",
       "│ conv2d (\u001b[38;5;33mConv2D\u001b[0m)                 │ (\u001b[38;5;45mNone\u001b[0m, \u001b[38;5;34m148\u001b[0m, \u001b[38;5;34m148\u001b[0m, \u001b[38;5;34m32\u001b[0m)   │           \u001b[38;5;34m896\u001b[0m │\n",
       "├─────────────────────────────────┼────────────────────────┼───────────────┤\n",
       "│ max_pooling2d (\u001b[38;5;33mMaxPooling2D\u001b[0m)    │ (\u001b[38;5;45mNone\u001b[0m, \u001b[38;5;34m74\u001b[0m, \u001b[38;5;34m74\u001b[0m, \u001b[38;5;34m32\u001b[0m)     │             \u001b[38;5;34m0\u001b[0m │\n",
       "├─────────────────────────────────┼────────────────────────┼───────────────┤\n",
       "│ conv2d_1 (\u001b[38;5;33mConv2D\u001b[0m)               │ (\u001b[38;5;45mNone\u001b[0m, \u001b[38;5;34m72\u001b[0m, \u001b[38;5;34m72\u001b[0m, \u001b[38;5;34m64\u001b[0m)     │        \u001b[38;5;34m18,496\u001b[0m │\n",
       "├─────────────────────────────────┼────────────────────────┼───────────────┤\n",
       "│ max_pooling2d_1 (\u001b[38;5;33mMaxPooling2D\u001b[0m)  │ (\u001b[38;5;45mNone\u001b[0m, \u001b[38;5;34m36\u001b[0m, \u001b[38;5;34m36\u001b[0m, \u001b[38;5;34m64\u001b[0m)     │             \u001b[38;5;34m0\u001b[0m │\n",
       "├─────────────────────────────────┼────────────────────────┼───────────────┤\n",
       "│ conv2d_2 (\u001b[38;5;33mConv2D\u001b[0m)               │ (\u001b[38;5;45mNone\u001b[0m, \u001b[38;5;34m34\u001b[0m, \u001b[38;5;34m34\u001b[0m, \u001b[38;5;34m128\u001b[0m)    │        \u001b[38;5;34m73,856\u001b[0m │\n",
       "├─────────────────────────────────┼────────────────────────┼───────────────┤\n",
       "│ max_pooling2d_2 (\u001b[38;5;33mMaxPooling2D\u001b[0m)  │ (\u001b[38;5;45mNone\u001b[0m, \u001b[38;5;34m17\u001b[0m, \u001b[38;5;34m17\u001b[0m, \u001b[38;5;34m128\u001b[0m)    │             \u001b[38;5;34m0\u001b[0m │\n",
       "├─────────────────────────────────┼────────────────────────┼───────────────┤\n",
       "│ conv2d_3 (\u001b[38;5;33mConv2D\u001b[0m)               │ (\u001b[38;5;45mNone\u001b[0m, \u001b[38;5;34m15\u001b[0m, \u001b[38;5;34m15\u001b[0m, \u001b[38;5;34m128\u001b[0m)    │       \u001b[38;5;34m147,584\u001b[0m │\n",
       "├─────────────────────────────────┼────────────────────────┼───────────────┤\n",
       "│ max_pooling2d_3 (\u001b[38;5;33mMaxPooling2D\u001b[0m)  │ (\u001b[38;5;45mNone\u001b[0m, \u001b[38;5;34m7\u001b[0m, \u001b[38;5;34m7\u001b[0m, \u001b[38;5;34m128\u001b[0m)      │             \u001b[38;5;34m0\u001b[0m │\n",
       "├─────────────────────────────────┼────────────────────────┼───────────────┤\n",
       "│ flatten (\u001b[38;5;33mFlatten\u001b[0m)               │ (\u001b[38;5;45mNone\u001b[0m, \u001b[38;5;34m6272\u001b[0m)           │             \u001b[38;5;34m0\u001b[0m │\n",
       "├─────────────────────────────────┼────────────────────────┼───────────────┤\n",
       "│ dropout (\u001b[38;5;33mDropout\u001b[0m)               │ (\u001b[38;5;45mNone\u001b[0m, \u001b[38;5;34m6272\u001b[0m)           │             \u001b[38;5;34m0\u001b[0m │\n",
       "├─────────────────────────────────┼────────────────────────┼───────────────┤\n",
       "│ dense (\u001b[38;5;33mDense\u001b[0m)                   │ (\u001b[38;5;45mNone\u001b[0m, \u001b[38;5;34m512\u001b[0m)            │     \u001b[38;5;34m3,211,776\u001b[0m │\n",
       "├─────────────────────────────────┼────────────────────────┼───────────────┤\n",
       "│ dense_1 (\u001b[38;5;33mDense\u001b[0m)                 │ (\u001b[38;5;45mNone\u001b[0m, \u001b[38;5;34m1\u001b[0m)              │           \u001b[38;5;34m513\u001b[0m │\n",
       "└─────────────────────────────────┴────────────────────────┴───────────────┘\n"
      ]
     },
     "metadata": {},
     "output_type": "display_data"
    },
    {
     "data": {
      "text/html": [
       "<pre style=\"white-space:pre;overflow-x:auto;line-height:normal;font-family:Menlo,'DejaVu Sans Mono',consolas,'Courier New',monospace\"><span style=\"font-weight: bold\"> Total params: </span><span style=\"color: #00af00; text-decoration-color: #00af00\">3,453,121</span> (13.17 MB)\n",
       "</pre>\n"
      ],
      "text/plain": [
       "\u001b[1m Total params: \u001b[0m\u001b[38;5;34m3,453,121\u001b[0m (13.17 MB)\n"
      ]
     },
     "metadata": {},
     "output_type": "display_data"
    },
    {
     "data": {
      "text/html": [
       "<pre style=\"white-space:pre;overflow-x:auto;line-height:normal;font-family:Menlo,'DejaVu Sans Mono',consolas,'Courier New',monospace\"><span style=\"font-weight: bold\"> Trainable params: </span><span style=\"color: #00af00; text-decoration-color: #00af00\">3,453,121</span> (13.17 MB)\n",
       "</pre>\n"
      ],
      "text/plain": [
       "\u001b[1m Trainable params: \u001b[0m\u001b[38;5;34m3,453,121\u001b[0m (13.17 MB)\n"
      ]
     },
     "metadata": {},
     "output_type": "display_data"
    },
    {
     "data": {
      "text/html": [
       "<pre style=\"white-space:pre;overflow-x:auto;line-height:normal;font-family:Menlo,'DejaVu Sans Mono',consolas,'Courier New',monospace\"><span style=\"font-weight: bold\"> Non-trainable params: </span><span style=\"color: #00af00; text-decoration-color: #00af00\">0</span> (0.00 B)\n",
       "</pre>\n"
      ],
      "text/plain": [
       "\u001b[1m Non-trainable params: \u001b[0m\u001b[38;5;34m0\u001b[0m (0.00 B)\n"
      ]
     },
     "metadata": {},
     "output_type": "display_data"
    }
   ],
   "source": [
    "model.summary()"
   ]
  },
  {
   "cell_type": "code",
   "execution_count": 17,
   "metadata": {
    "id": "oFFWe92U6r18"
   },
   "outputs": [],
   "source": [
    "model.compile(\n",
    "    loss='binary_crossentropy',\n",
    "    optimizer=Adam(),\n",
    "    metrics=['accuracy']\n",
    ")"
   ]
  },
  {
   "cell_type": "code",
   "execution_count": 18,
   "metadata": {
    "colab": {
     "base_uri": "https://localhost:8080/"
    },
    "id": "QawppRLC6rz-",
    "outputId": "e6878773-6290-41e3-bb3b-5db8e58739a1"
   },
   "outputs": [
    {
     "name": "stderr",
     "output_type": "stream",
     "text": [
      "/usr/local/lib/python3.12/dist-packages/keras/src/trainers/data_adapters/py_dataset_adapter.py:121: UserWarning: Your `PyDataset` class should call `super().__init__(**kwargs)` in its constructor. `**kwargs` can include `workers`, `use_multiprocessing`, `max_queue_size`. Do not pass these arguments to `fit()`, as they will be ignored.\n",
      "  self._warn_if_super_not_called()\n"
     ]
    },
    {
     "name": "stdout",
     "output_type": "stream",
     "text": [
      "Epoch 1/30\n",
      "\u001b[1m624/624\u001b[0m \u001b[32m━━━━━━━━━━━━━━━━━━━━\u001b[0m\u001b[37m\u001b[0m \u001b[1m153s\u001b[0m 234ms/step - accuracy: 0.5275 - loss: 0.6869 - val_accuracy: 0.5467 - val_loss: 0.6928\n",
      "Epoch 2/30\n",
      "\u001b[1m  1/624\u001b[0m \u001b[37m━━━━━━━━━━━━━━━━━━━━\u001b[0m \u001b[1m22s\u001b[0m 37ms/step - accuracy: 0.5312 - loss: 0.6906"
     ]
    },
    {
     "name": "stderr",
     "output_type": "stream",
     "text": [
      "/usr/local/lib/python3.12/dist-packages/keras/src/trainers/epoch_iterator.py:116: UserWarning: Your input ran out of data; interrupting training. Make sure that your dataset or generator can generate at least `steps_per_epoch * epochs` batches. You may need to use the `.repeat()` function when building your dataset.\n",
      "  self._interrupted_warning()\n"
     ]
    },
    {
     "name": "stdout",
     "output_type": "stream",
     "text": [
      "\b\b\b\b\b\b\b\b\b\b\b\b\b\b\b\b\b\b\b\b\b\b\b\b\b\b\b\b\b\b\b\b\b\b\b\b\b\b\b\b\b\b\b\b\b\b\b\b\b\b\b\b\b\b\b\b\b\b\b\b\b\b\b\b\b\b\b\b\b\b\b\b\b\b\b\b\r",
      "\u001b[1m624/624\u001b[0m \u001b[32m━━━━━━━━━━━━━━━━━━━━\u001b[0m\u001b[37m\u001b[0m \u001b[1m7s\u001b[0m 11ms/step - accuracy: 0.5312 - loss: 0.6906 - val_accuracy: 0.5563 - val_loss: 0.6723\n",
      "Epoch 3/30\n",
      "\u001b[1m624/624\u001b[0m \u001b[32m━━━━━━━━━━━━━━━━━━━━\u001b[0m\u001b[37m\u001b[0m \u001b[1m139s\u001b[0m 223ms/step - accuracy: 0.6226 - loss: 0.6428 - val_accuracy: 0.6587 - val_loss: 0.6267\n",
      "Epoch 4/30\n",
      "\u001b[1m624/624\u001b[0m \u001b[32m━━━━━━━━━━━━━━━━━━━━\u001b[0m\u001b[37m\u001b[0m \u001b[1m10s\u001b[0m 15ms/step - accuracy: 0.6562 - loss: 0.5814 - val_accuracy: 0.6743 - val_loss: 0.6110\n",
      "Epoch 5/30\n",
      "\u001b[1m624/624\u001b[0m \u001b[32m━━━━━━━━━━━━━━━━━━━━\u001b[0m\u001b[37m\u001b[0m \u001b[1m139s\u001b[0m 222ms/step - accuracy: 0.6879 - loss: 0.5926 - val_accuracy: 0.7059 - val_loss: 0.5973\n",
      "Epoch 6/30\n",
      "\u001b[1m624/624\u001b[0m \u001b[32m━━━━━━━━━━━━━━━━━━━━\u001b[0m\u001b[37m\u001b[0m \u001b[1m7s\u001b[0m 11ms/step - accuracy: 0.6250 - loss: 0.7127 - val_accuracy: 0.7151 - val_loss: 0.5752\n",
      "Epoch 7/30\n",
      "\u001b[1m624/624\u001b[0m \u001b[32m━━━━━━━━━━━━━━━━━━━━\u001b[0m\u001b[37m\u001b[0m \u001b[1m144s\u001b[0m 231ms/step - accuracy: 0.7119 - loss: 0.5598 - val_accuracy: 0.7774 - val_loss: 0.4786\n",
      "Epoch 8/30\n",
      "\u001b[1m624/624\u001b[0m \u001b[32m━━━━━━━━━━━━━━━━━━━━\u001b[0m\u001b[37m\u001b[0m \u001b[1m8s\u001b[0m 13ms/step - accuracy: 0.8125 - loss: 0.4111 - val_accuracy: 0.7744 - val_loss: 0.4811\n",
      "Epoch 9/30\n",
      "\u001b[1m624/624\u001b[0m \u001b[32m━━━━━━━━━━━━━━━━━━━━\u001b[0m\u001b[37m\u001b[0m \u001b[1m202s\u001b[0m 323ms/step - accuracy: 0.7288 - loss: 0.5348 - val_accuracy: 0.7835 - val_loss: 0.4749\n",
      "Epoch 10/30\n",
      "\u001b[1m624/624\u001b[0m \u001b[32m━━━━━━━━━━━━━━━━━━━━\u001b[0m\u001b[37m\u001b[0m \u001b[1m7s\u001b[0m 12ms/step - accuracy: 0.8438 - loss: 0.4376 - val_accuracy: 0.7875 - val_loss: 0.4644\n",
      "Epoch 11/30\n",
      "\u001b[1m624/624\u001b[0m \u001b[32m━━━━━━━━━━━━━━━━━━━━\u001b[0m\u001b[37m\u001b[0m \u001b[1m143s\u001b[0m 228ms/step - accuracy: 0.7477 - loss: 0.5054 - val_accuracy: 0.8055 - val_loss: 0.4321\n",
      "Epoch 12/30\n",
      "\u001b[1m624/624\u001b[0m \u001b[32m━━━━━━━━━━━━━━━━━━━━\u001b[0m\u001b[37m\u001b[0m \u001b[1m8s\u001b[0m 13ms/step - accuracy: 0.8438 - loss: 0.4203 - val_accuracy: 0.8037 - val_loss: 0.4312\n",
      "Epoch 13/30\n",
      "\u001b[1m624/624\u001b[0m \u001b[32m━━━━━━━━━━━━━━━━━━━━\u001b[0m\u001b[37m\u001b[0m \u001b[1m142s\u001b[0m 227ms/step - accuracy: 0.7725 - loss: 0.4784 - val_accuracy: 0.7694 - val_loss: 0.4891\n",
      "Epoch 14/30\n",
      "\u001b[1m624/624\u001b[0m \u001b[32m━━━━━━━━━━━━━━━━━━━━\u001b[0m\u001b[37m\u001b[0m \u001b[1m8s\u001b[0m 13ms/step - accuracy: 0.6875 - loss: 0.5422 - val_accuracy: 0.7953 - val_loss: 0.4449\n",
      "Epoch 15/30\n",
      "\u001b[1m624/624\u001b[0m \u001b[32m━━━━━━━━━━━━━━━━━━━━\u001b[0m\u001b[37m\u001b[0m \u001b[1m140s\u001b[0m 225ms/step - accuracy: 0.7968 - loss: 0.4423 - val_accuracy: 0.8433 - val_loss: 0.3591\n",
      "Epoch 16/30\n",
      "\u001b[1m624/624\u001b[0m \u001b[32m━━━━━━━━━━━━━━━━━━━━\u001b[0m\u001b[37m\u001b[0m \u001b[1m8s\u001b[0m 12ms/step - accuracy: 0.7188 - loss: 0.5592 - val_accuracy: 0.8480 - val_loss: 0.3542\n",
      "Epoch 17/30\n",
      "\u001b[1m624/624\u001b[0m \u001b[32m━━━━━━━━━━━━━━━━━━━━\u001b[0m\u001b[37m\u001b[0m \u001b[1m136s\u001b[0m 218ms/step - accuracy: 0.8044 - loss: 0.4213 - val_accuracy: 0.8039 - val_loss: 0.4222\n",
      "Epoch 18/30\n",
      "\u001b[1m624/624\u001b[0m \u001b[32m━━━━━━━━━━━━━━━━━━━━\u001b[0m\u001b[37m\u001b[0m \u001b[1m7s\u001b[0m 11ms/step - accuracy: 0.6562 - loss: 0.5394 - val_accuracy: 0.8127 - val_loss: 0.4116\n",
      "Epoch 19/30\n",
      "\u001b[1m624/624\u001b[0m \u001b[32m━━━━━━━━━━━━━━━━━━━━\u001b[0m\u001b[37m\u001b[0m \u001b[1m138s\u001b[0m 221ms/step - accuracy: 0.8132 - loss: 0.4108 - val_accuracy: 0.7582 - val_loss: 0.4675\n",
      "Epoch 20/30\n",
      "\u001b[1m624/624\u001b[0m \u001b[32m━━━━━━━━━━━━━━━━━━━━\u001b[0m\u001b[37m\u001b[0m \u001b[1m7s\u001b[0m 11ms/step - accuracy: 0.7500 - loss: 0.4871 - val_accuracy: 0.7863 - val_loss: 0.4288\n",
      "Epoch 21/30\n",
      "\u001b[1m624/624\u001b[0m \u001b[32m━━━━━━━━━━━━━━━━━━━━\u001b[0m\u001b[37m\u001b[0m \u001b[1m138s\u001b[0m 222ms/step - accuracy: 0.8217 - loss: 0.3871 - val_accuracy: 0.8636 - val_loss: 0.3189\n",
      "Epoch 22/30\n",
      "\u001b[1m624/624\u001b[0m \u001b[32m━━━━━━━━━━━━━━━━━━━━\u001b[0m\u001b[37m\u001b[0m \u001b[1m7s\u001b[0m 11ms/step - accuracy: 0.8750 - loss: 0.2993 - val_accuracy: 0.8636 - val_loss: 0.3172\n",
      "Epoch 23/30\n",
      "\u001b[1m624/624\u001b[0m \u001b[32m━━━━━━━━━━━━━━━━━━━━\u001b[0m\u001b[37m\u001b[0m \u001b[1m138s\u001b[0m 220ms/step - accuracy: 0.8355 - loss: 0.3701 - val_accuracy: 0.8766 - val_loss: 0.2824\n",
      "Epoch 24/30\n",
      "\u001b[1m624/624\u001b[0m \u001b[32m━━━━━━━━━━━━━━━━━━━━\u001b[0m\u001b[37m\u001b[0m \u001b[1m7s\u001b[0m 11ms/step - accuracy: 0.8125 - loss: 0.4597 - val_accuracy: 0.8812 - val_loss: 0.2762\n",
      "Epoch 25/30\n",
      "\u001b[1m624/624\u001b[0m \u001b[32m━━━━━━━━━━━━━━━━━━━━\u001b[0m\u001b[37m\u001b[0m \u001b[1m139s\u001b[0m 223ms/step - accuracy: 0.8432 - loss: 0.3494 - val_accuracy: 0.8736 - val_loss: 0.2836\n",
      "Epoch 26/30\n",
      "\u001b[1m624/624\u001b[0m \u001b[32m━━━━━━━━━━━━━━━━━━━━\u001b[0m\u001b[37m\u001b[0m \u001b[1m7s\u001b[0m 11ms/step - accuracy: 0.7812 - loss: 0.4474 - val_accuracy: 0.8790 - val_loss: 0.2744\n",
      "Epoch 27/30\n",
      "\u001b[1m624/624\u001b[0m \u001b[32m━━━━━━━━━━━━━━━━━━━━\u001b[0m\u001b[37m\u001b[0m \u001b[1m140s\u001b[0m 225ms/step - accuracy: 0.8456 - loss: 0.3453 - val_accuracy: 0.8828 - val_loss: 0.2774\n",
      "Epoch 28/30\n",
      "\u001b[1m624/624\u001b[0m \u001b[32m━━━━━━━━━━━━━━━━━━━━\u001b[0m\u001b[37m\u001b[0m \u001b[1m7s\u001b[0m 11ms/step - accuracy: 0.8438 - loss: 0.3049 - val_accuracy: 0.8800 - val_loss: 0.2876\n",
      "Epoch 29/30\n",
      "\u001b[1m624/624\u001b[0m \u001b[32m━━━━━━━━━━━━━━━━━━━━\u001b[0m\u001b[37m\u001b[0m \u001b[1m143s\u001b[0m 229ms/step - accuracy: 0.8520 - loss: 0.3372 - val_accuracy: 0.8722 - val_loss: 0.2900\n",
      "Epoch 30/30\n",
      "\u001b[1m624/624\u001b[0m \u001b[32m━━━━━━━━━━━━━━━━━━━━\u001b[0m\u001b[37m\u001b[0m \u001b[1m8s\u001b[0m 12ms/step - accuracy: 0.8125 - loss: 0.3499 - val_accuracy: 0.8758 - val_loss: 0.2815\n"
     ]
    }
   ],
   "source": [
    "history=model.fit(\n",
    "    training_data_generator,\n",
    "    steps_per_epoch=training_data_generator.samples//batch_size,\n",
    "    epochs=30,\n",
    "    validation_data=valid_data_generator,\n",
    "    validation_steps=valid_data_generator.samples//batch_size,\n",
    "    verbose=1\n",
    ")"
   ]
  },
  {
   "cell_type": "code",
   "execution_count": 20,
   "metadata": {
    "id": "XKMkZxq86rxy"
   },
   "outputs": [],
   "source": [
    "model.save('cats_vs_dogs_v1.keras')"
   ]
  },
  {
   "cell_type": "code",
   "execution_count": 22,
   "metadata": {
    "id": "FMRqlE46Jh2K"
   },
   "outputs": [],
   "source": [
    "from tensorflow.keras.preprocessing import image"
   ]
  },
  {
   "cell_type": "code",
   "execution_count": 23,
   "metadata": {
    "id": "5jPkRyhaHqIy"
   },
   "outputs": [],
   "source": [
    "img=image.load_img('/content/Screenshot 2025-10-25 214212.png',target_size=(img_height,img_width))"
   ]
  },
  {
   "cell_type": "code",
   "execution_count": 24,
   "metadata": {
    "colab": {
     "base_uri": "https://localhost:8080/",
     "height": 167
    },
    "id": "39e7A2TvHqFV",
    "outputId": "4020ce2b-7d60-4a3f-972f-b36e207869ab"
   },
   "outputs": [
    {
     "data": {
      "image/jpeg": "[encoded data removed]",
      "image/png": "[encoded data removed]",
      "text/plain": [
       "<PIL.Image.Image image mode=RGB size=150x150>"
      ]
     },
     "execution_count": 24,
     "metadata": {},
     "output_type": "execute_result"
    }
   ],
   "source": [
    "img"
   ]
  },
  {
   "cell_type": "code",
   "execution_count": 25,
   "metadata": {
    "id": "4_SZQrTHHqDb"
   },
   "outputs": [],
   "source": [
    "img_array=image.img_to_array(img)"
   ]
  },
  {
   "cell_type": "code",
   "execution_count": 26,
   "metadata": {
    "id": "H52wiAxRHqBX"
   },
   "outputs": [],
   "source": [
    "img_array = np.expand_dims(img_array, axis=0)"
   ]
  },
  {
   "cell_type": "code",
   "execution_count": 27,
   "metadata": {
    "id": "Wwc7McQ7Hp-5"
   },
   "outputs": [],
   "source": [
    "img_array = img_array / 255.0"
   ]
  },
  {
   "cell_type": "code",
   "execution_count": 28,
   "metadata": {
    "colab": {
     "base_uri": "https://localhost:8080/"
    },
    "id": "ZjmlEU9pHp8y",
    "outputId": "4818edd4-a476-497f-fd4a-8065c20900b3"
   },
   "outputs": [
    {
     "name": "stdout",
     "output_type": "stream",
     "text": [
      "\u001b[1m1/1\u001b[0m \u001b[32m━━━━━━━━━━━━━━━━━━━━\u001b[0m\u001b[37m\u001b[0m \u001b[1m1s\u001b[0m 1s/step\n"
     ]
    }
   ],
   "source": [
    "prediction = model.predict(img_array)"
   ]
  },
  {
   "cell_type": "code",
   "execution_count": 29,
   "metadata": {
    "colab": {
     "base_uri": "https://localhost:8080/"
    },
    "id": "ghJE5iEoHp6x",
    "outputId": "5bdd25e9-8fe9-46a2-de95-3208bc4ff00c"
   },
   "outputs": [
    {
     "name": "stdout",
     "output_type": "stream",
     "text": [
      "\n",
      "--- Result ---\n",
      "Raw Prediction (0 = Cat, 1 = Dog): 0.0004\n",
      "Faisla: Yeh ek BILLI (CAT) hai!\n"
     ]
    }
   ],
   "source": [
    "print(\"\\n--- Result ---\")\n",
    "print(f\"Raw Prediction (0 = Cat, 1 = Dog): {prediction[0][0]:.4f}\")\n",
    "\n",
    "if prediction[0][0] > 0.5:\n",
    "    # 0.5 se bada matlab 1 (Dog) ke zyada kareeb\n",
    "    print(\"Faisla: Yeh ek KUTTA (DOG) hai!\")\n",
    "else:\n",
    "    # 0.5 se chhota matlab 0 (Cat) ke zyada kareeb\n",
    "    print(\"Faisla: Yeh ek BILLI (CAT) hai!\")"
   ]
  },
  {
   "cell_type": "code",
   "execution_count": null,
   "metadata": {
    "id": "kXg2jKZwHp4t"
   },
   "outputs": [],
   "source": []
  },
  {
   "cell_type": "code",
   "execution_count": null,
   "metadata": {
    "id": "gkNNDQ8XKw1a"
   },
   "outputs": [],
   "source": []
  },
  {
   "cell_type": "code",
   "execution_count": 30,
   "metadata": {
    "id": "SAXDNWXqLOOj"
   },
   "outputs": [],
   "source": [
    "img=image.load_img('/content/Screenshot 2025-10-25 214846.png',target_size=(img_height,img_width))"
   ]
  },
  {
   "cell_type": "code",
   "execution_count": 31,
   "metadata": {
    "colab": {
     "base_uri": "https://localhost:8080/",
     "height": 167
    },
    "id": "nxk7jc4-LOOj",
    "outputId": "e64cdfa1-34e8-4598-9052-0ec15dd7d793"
   },
   "outputs": [
    {
     "data": {
      "image/jpeg": "[encoded data removed]",
      "image/png": "[encoded data removed]",
      "text/plain": [
       "<PIL.Image.Image image mode=RGB size=150x150>"
      ]
     },
     "execution_count": 31,
     "metadata": {},
     "output_type": "execute_result"
    }
   ],
   "source": [
    "img"
   ]
  },
  {
   "cell_type": "code",
   "execution_count": 32,
   "metadata": {
    "id": "yfTEIFsHLOOj"
   },
   "outputs": [],
   "source": [
    "img_array=image.img_to_array(img)"
   ]
  },
  {
   "cell_type": "code",
   "execution_count": 33,
   "metadata": {
    "id": "LVo_XCWTLOOj"
   },
   "outputs": [],
   "source": [
    "img_array = np.expand_dims(img_array, axis=0)"
   ]
  },
  {
   "cell_type": "code",
   "execution_count": 34,
   "metadata": {
    "id": "-uUWWJNhLOOk"
   },
   "outputs": [],
   "source": [
    "img_array = img_array / 255.0"
   ]
  },
  {
   "cell_type": "code",
   "execution_count": 35,
   "metadata": {
    "colab": {
     "base_uri": "https://localhost:8080/"
    },
    "id": "qNJQ9tfsLOOk",
    "outputId": "5f9bca99-e597-43a9-b9d0-680282df9d5c"
   },
   "outputs": [
    {
     "name": "stdout",
     "output_type": "stream",
     "text": [
      "\u001b[1m1/1\u001b[0m \u001b[32m━━━━━━━━━━━━━━━━━━━━\u001b[0m\u001b[37m\u001b[0m \u001b[1m0s\u001b[0m 28ms/step\n"
     ]
    }
   ],
   "source": [
    "prediction = model.predict(img_array)"
   ]
  },
  {
   "cell_type": "code",
   "execution_count": 36,
   "metadata": {
    "colab": {
     "base_uri": "https://localhost:8080/"
    },
    "id": "7IRoi5S6LOOk",
    "outputId": "d8ec6503-e26b-4b57-a04a-694b884c965c"
   },
   "outputs": [
    {
     "name": "stdout",
     "output_type": "stream",
     "text": [
      "\n",
      "--- Result ---\n",
      "Raw Prediction (0 = Cat, 1 = Dog): 0.1312\n",
      "Faisla: Yeh ek BILLI (CAT) hai!\n"
     ]
    }
   ],
   "source": [
    "print(\"\\n--- Result ---\")\n",
    "print(f\"Raw Prediction (0 = Cat, 1 = Dog): {prediction[0][0]:.4f}\")\n",
    "\n",
    "if prediction[0][0] > 0.5:\n",
    "    # 0.5 se bada matlab 1 (Dog) ke zyada kareeb\n",
    "    print(\"Faisla: Yeh ek KUTTA (DOG) hai!\")\n",
    "else:\n",
    "    # 0.5 se chhota matlab 0 (Cat) ke zyada kareeb\n",
    "    print(\"Faisla: Yeh ek BILLI (CAT) hai!\")"
   ]
  },
  {
   "cell_type": "code",
   "execution_count": null,
   "metadata": {
    "id": "YTOSxyxcKwwR"
   },
   "outputs": [],
   "source": []
  },
  {
   "cell_type": "code",
   "execution_count": null,
   "metadata": {
    "id": "h2wMEMEKKwuj"
   },
   "outputs": [],
   "source": []
  },
  {
   "cell_type": "code",
   "execution_count": 37,
   "metadata": {
    "id": "4YJAMpBKLxsk"
   },
   "outputs": [],
   "source": [
    "img=image.load_img('/content/dog.png',target_size=(img_height,img_width))"
   ]
  },
  {
   "cell_type": "code",
   "execution_count": 38,
   "metadata": {
    "colab": {
     "base_uri": "https://localhost:8080/",
     "height": 167
    },
    "id": "qoK_4xCDLxsk",
    "outputId": "19881f43-bb7b-4bfc-c187-798a48de1697"
   },
   "outputs": [
    {
     "data": {
      "image/jpeg": "[encoded data removed]",
      "image/png": "[encoded data removed]",
      "text/plain": [
       "<PIL.Image.Image image mode=RGB size=150x150>"
      ]
     },
     "execution_count": 38,
     "metadata": {},
     "output_type": "execute_result"
    }
   ],
   "source": [
    "img"
   ]
  },
  {
   "cell_type": "code",
   "execution_count": 39,
   "metadata": {
    "id": "hSPPTrlpLxsk"
   },
   "outputs": [],
   "source": [
    "img_array=image.img_to_array(img)"
   ]
  },
  {
   "cell_type": "code",
   "execution_count": 40,
   "metadata": {
    "id": "qaS7XI8WLxsk"
   },
   "outputs": [],
   "source": [
    "img_array = np.expand_dims(img_array, axis=0)"
   ]
  },
  {
   "cell_type": "code",
   "execution_count": 41,
   "metadata": {
    "id": "r1R9O8O_Lxsk"
   },
   "outputs": [],
   "source": [
    "img_array = img_array / 255.0"
   ]
  },
  {
   "cell_type": "code",
   "execution_count": 42,
   "metadata": {
    "colab": {
     "base_uri": "https://localhost:8080/"
    },
    "id": "3_AdO9ojLxsk",
    "outputId": "2183746d-cdc8-4153-e540-36286cbaae03"
   },
   "outputs": [
    {
     "name": "stdout",
     "output_type": "stream",
     "text": [
      "\u001b[1m1/1\u001b[0m \u001b[32m━━━━━━━━━━━━━━━━━━━━\u001b[0m\u001b[37m\u001b[0m \u001b[1m0s\u001b[0m 30ms/step\n"
     ]
    }
   ],
   "source": [
    "prediction = model.predict(img_array)"
   ]
  },
  {
   "cell_type": "code",
   "execution_count": 43,
   "metadata": {
    "colab": {
     "base_uri": "https://localhost:8080/"
    },
    "id": "HZKJmQupLxsk",
    "outputId": "fee8e4da-72f6-4009-c0e2-4f96f41ef71b"
   },
   "outputs": [
    {
     "name": "stdout",
     "output_type": "stream",
     "text": [
      "\n",
      "--- Result ---\n",
      "Raw Prediction (0 = Cat, 1 = Dog): 0.9990\n",
      "Faisla: Yeh ek KUTTA (DOG) hai!\n"
     ]
    }
   ],
   "source": [
    "print(\"\\n--- Result ---\")\n",
    "print(f\"Raw Prediction (0 = Cat, 1 = Dog): {prediction[0][0]:.4f}\")\n",
    "\n",
    "if prediction[0][0] > 0.5:\n",
    "    # 0.5 se bada matlab 1 (Dog) ke zyada kareeb\n",
    "    print(\"Faisla: Yeh ek KUTTA (DOG) hai!\")\n",
    "else:\n",
    "    # 0.5 se chhota matlab 0 (Cat) ke zyada kareeb\n",
    "    print(\"Faisla: Yeh ek BILLI (CAT) hai!\")"
   ]
  },
  {
   "cell_type": "code",
   "execution_count": null,
   "metadata": {
    "id": "tfAVMllQKwsq"
   },
   "outputs": [],
   "source": []
  },
  {
   "cell_type": "code",
   "execution_count": null,
   "metadata": {
    "id": "w5HKgkYNKwqO"
   },
   "outputs": [],
   "source": []
  },
  {
   "cell_type": "code",
   "execution_count": null,
   "metadata": {
    "id": "wbFqi5IuKwnp"
   },
   "outputs": [],
   "source": []
  },
  {
   "cell_type": "code",
   "execution_count": 18,
   "metadata": {
    "id": "uy8VhyCv6rq3"
   },
   "outputs": [],
   "source": []
  }
 ],
 "metadata": {
  "accelerator": "GPU",
  "colab": {
   "gpuType": "T4",
   "provenance": []
  },
  "kernelspec": {
   "display_name": "Python 3 (ipykernel)",
   "language": "python",
   "name": "python3"
  },
  "language_info": {
   "codemirror_mode": {
    "name": "ipython",
    "version": 3
   },
   "file_extension": ".py",
   "mimetype": "text/x-python",
   "name": "python",
   "nbconvert_exporter": "python",
   "pygments_lexer": "ipython3",
   "version": "3.11.9"
  }
 },
 "nbformat": 4,
 "nbformat_minor": 4
}
